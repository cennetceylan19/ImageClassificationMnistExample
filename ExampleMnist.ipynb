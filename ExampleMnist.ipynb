{
  "nbformat": 4,
  "nbformat_minor": 0,
  "metadata": {
    "colab": {
      "provenance": [],
      "mount_file_id": "1HTfe483uvsfrewd-UgNh_aqoePP_l5Aq",
      "authorship_tag": "ABX9TyPaqdKyZtul1pCIh5mqkVYD",
      "include_colab_link": true
    },
    "kernelspec": {
      "name": "python3",
      "display_name": "Python 3"
    },
    "language_info": {
      "name": "python"
    },
    "accelerator": "GPU",
    "gpuClass": "standard"
  },
  "cells": [
    {
      "cell_type": "markdown",
      "metadata": {
        "id": "view-in-github",
        "colab_type": "text"
      },
      "source": [
        "<a href=\"https://colab.research.google.com/github/cennetceylan19/ImageClassificationMnistExample/blob/main/ExampleMnist.ipynb\" target=\"_parent\"><img src=\"https://colab.research.google.com/assets/colab-badge.svg\" alt=\"Open In Colab\"/></a>"
      ]
    },
    {
      "cell_type": "markdown",
      "source": [
        "# Importing\n",
        "\n"
      ],
      "metadata": {
        "id": "pjEgxeZrWk9A"
      }
    },
    {
      "cell_type": "code",
      "source": [
        "from tensorflow.keras.models import Sequential\n",
        "from tensorflow.keras.layers import Conv2D, MaxPooling2D, Flatten, Dense\n",
        "from tensorflow.keras.datasets import mnist\n",
        "from tensorflow.keras.optimizers import Adam\n",
        "from tensorflow.keras.losses import categorical_crossentropy\n",
        "from tensorflow.keras.utils import to_categorical\n",
        "\n",
        "import matplotlib.pyplot as plt"
      ],
      "metadata": {
        "id": "P7_LYvVKXHCn"
      },
      "execution_count": 2,
      "outputs": []
    },
    {
      "cell_type": "markdown",
      "source": [
        "# Preparing data"
      ],
      "metadata": {
        "id": "AV2sO_tMXS2X"
      }
    },
    {
      "cell_type": "code",
      "source": [
        "# load dataset\n",
        "(x_train, y_train), (x_test, y_test) = mnist.load_data()"
      ],
      "metadata": {
        "colab": {
          "base_uri": "https://localhost:8080/"
        },
        "id": "AkvEwtIyXZd5",
        "outputId": "c4240ee7-9dd5-45ba-fe30-4ce5b33cfc1d"
      },
      "execution_count": 4,
      "outputs": [
        {
          "output_type": "stream",
          "name": "stdout",
          "text": [
            "Downloading data from https://storage.googleapis.com/tensorflow/tf-keras-datasets/mnist.npz\n",
            "11490434/11490434 [==============================] - 2s 0us/step\n"
          ]
        }
      ]
    },
    {
      "cell_type": "code",
      "source": [
        "# train set - images\n",
        "x_train.shape"
      ],
      "metadata": {
        "colab": {
          "base_uri": "https://localhost:8080/"
        },
        "id": "UYdf-F5xXlXl",
        "outputId": "52269d65-0201-4346-c60f-9b0976134779"
      },
      "execution_count": 5,
      "outputs": [
        {
          "output_type": "execute_result",
          "data": {
            "text/plain": [
              "(60000, 28, 28)"
            ]
          },
          "metadata": {},
          "execution_count": 5
        }
      ]
    },
    {
      "cell_type": "code",
      "source": [
        "#validation ve train set belirleme\n",
        "x_valid = x_train[48000:]\n",
        "y_valid = y_train[48000:]\n",
        "\n",
        "x_train = x_train[:48000]\n",
        "y_train = y_train[:48000]"
      ],
      "metadata": {
        "id": "AD4VuaKYXpPi"
      },
      "execution_count": 6,
      "outputs": []
    },
    {
      "cell_type": "code",
      "source": [
        "x_train.shape"
      ],
      "metadata": {
        "colab": {
          "base_uri": "https://localhost:8080/"
        },
        "id": "Dp9qgTmjXrtk",
        "outputId": "42146abf-a19d-40a6-a485-c6036ddd1a6a"
      },
      "execution_count": 7,
      "outputs": [
        {
          "output_type": "execute_result",
          "data": {
            "text/plain": [
              "(48000, 28, 28)"
            ]
          },
          "metadata": {},
          "execution_count": 7
        }
      ]
    },
    {
      "cell_type": "code",
      "source": [
        "x_valid.shape"
      ],
      "metadata": {
        "colab": {
          "base_uri": "https://localhost:8080/"
        },
        "id": "BWGxXIvoXuLs",
        "outputId": "dcaf0511-b111-4f11-ddff-3e662503d839"
      },
      "execution_count": 8,
      "outputs": [
        {
          "output_type": "execute_result",
          "data": {
            "text/plain": [
              "(12000, 28, 28)"
            ]
          },
          "metadata": {},
          "execution_count": 8
        }
      ]
    },
    {
      "cell_type": "code",
      "source": [
        "y_valid.shape"
      ],
      "metadata": {
        "colab": {
          "base_uri": "https://localhost:8080/"
        },
        "id": "m_LnsMfdXzEL",
        "outputId": "9aa1e680-4b2f-41d0-b2c9-abfdb3197f91"
      },
      "execution_count": 9,
      "outputs": [
        {
          "output_type": "execute_result",
          "data": {
            "text/plain": [
              "(12000,)"
            ]
          },
          "metadata": {},
          "execution_count": 9
        }
      ]
    },
    {
      "cell_type": "code",
      "source": [
        "print('x_train shape:', x_train.shape)\n",
        "print(x_train.shape[0], 'train samples')\n",
        "print(x_valid.shape[0], 'validation samples')\n",
        "print(x_test.shape[0], 'test samples')"
      ],
      "metadata": {
        "colab": {
          "base_uri": "https://localhost:8080/"
        },
        "id": "Tf-XWhA2X-s7",
        "outputId": "0231c866-7547-4df9-a165-9d189c988e20"
      },
      "execution_count": 10,
      "outputs": [
        {
          "output_type": "stream",
          "name": "stdout",
          "text": [
            "x_train shape: (48000, 28, 28)\n",
            "48000 train samples\n",
            "12000 validation samples\n",
            "10000 test samples\n"
          ]
        }
      ]
    },
    {
      "cell_type": "code",
      "source": [
        "# ornek training data\n",
        "index = 2556\n",
        "plt.imshow(x_train[index], cmap=plt.cm.binary)\n",
        "plt.show()\n",
        "print(y_train[index])"
      ],
      "metadata": {
        "colab": {
          "base_uri": "https://localhost:8080/",
          "height": 282
        },
        "id": "5JRTnGG5Yu6Y",
        "outputId": "d0b66517-b766-4bcf-a63a-79742c3efacc"
      },
      "execution_count": 13,
      "outputs": [
        {
          "output_type": "display_data",
          "data": {
            "text/plain": [
              "<Figure size 432x288 with 1 Axes>"
            ],
            "image/png": "[encoded data removed]"
          },
          "metadata": {
            "needs_background": "light"
          }
        },
        {
          "output_type": "stream",
          "name": "stdout",
          "text": [
            "6\n"
          ]
        }
      ]
    },
    {
      "cell_type": "code",
      "source": [
        "# ornek test data\n",
        "index = 1395\n",
        "plt.imshow(x_test[index], cmap=plt.cm.binary)\n",
        "plt.show()\n",
        "print(y_test[index])"
      ],
      "metadata": {
        "colab": {
          "base_uri": "https://localhost:8080/",
          "height": 282
        },
        "id": "WEpfatfyZa9W",
        "outputId": "9fdb9d85-6f83-4f32-ad70-a9a39a00dd2e"
      },
      "execution_count": 14,
      "outputs": [
        {
          "output_type": "display_data",
          "data": {
            "text/plain": [
              "<Figure size 432x288 with 1 Axes>"
            ],
            "image/png": "[encoded data removed]"
          },
          "metadata": {
            "needs_background": "light"
          }
        },
        {
          "output_type": "stream",
          "name": "stdout",
          "text": [
            "2\n"
          ]
        }
      ]
    },
    {
      "cell_type": "markdown",
      "source": [
        "Reshape input_data - 4d\n",
        "\n",
        "Normal renkli image olsaydi: [28, 28, 3]\n",
        "\n",
        "Siyah beyaz oldugu icin: [28, 28]\n",
        "\n",
        "Model eğitimi öncesi aşağıdaki formata çevirmemiz gerekiyor:\n",
        "\n",
        "[x, 28, 28, 1]"
      ],
      "metadata": {
        "id": "P_UrLLUGZ204"
      }
    },
    {
      "cell_type": "code",
      "source": [
        "x_train.shape"
      ],
      "metadata": {
        "colab": {
          "base_uri": "https://localhost:8080/"
        },
        "id": "2ATLrcHuZ-CG",
        "outputId": "59f65ebe-6a14-4a94-9b5f-167696709a4e"
      },
      "execution_count": 15,
      "outputs": [
        {
          "output_type": "execute_result",
          "data": {
            "text/plain": [
              "(48000, 28, 28)"
            ]
          },
          "metadata": {},
          "execution_count": 15
        }
      ]
    },
    {
      "cell_type": "code",
      "source": [
        "x_train = x_train.reshape(x_train.shape[0], 28, 28, 1)\n",
        "x_valid = x_valid.reshape(x_valid.shape[0], 28, 28, 1)\n",
        "x_test = x_test.reshape(x_test.shape[0], 28, 28, 1)"
      ],
      "metadata": {
        "id": "aWzx-CkvaERn"
      },
      "execution_count": 16,
      "outputs": []
    },
    {
      "cell_type": "code",
      "source": [
        "x_train.shape"
      ],
      "metadata": {
        "colab": {
          "base_uri": "https://localhost:8080/"
        },
        "id": "eUEQON18aFgA",
        "outputId": "c75c89a2-f8f7-43cc-81e2-9bf8da5cf126"
      },
      "execution_count": 17,
      "outputs": [
        {
          "output_type": "execute_result",
          "data": {
            "text/plain": [
              "(48000, 28, 28, 1)"
            ]
          },
          "metadata": {},
          "execution_count": 17
        }
      ]
    },
    {
      "cell_type": "markdown",
      "source": [
        "inputlar train oncesi float32 tipine donusturulur"
      ],
      "metadata": {
        "id": "5idu9Q0aaLun"
      }
    },
    {
      "cell_type": "code",
      "source": [
        "# before\n",
        "print(x_train.dtype)"
      ],
      "metadata": {
        "colab": {
          "base_uri": "https://localhost:8080/"
        },
        "id": "xlvmInfDaKtx",
        "outputId": "fbe9b341-f19d-4d24-e062-c72ce6d4359c"
      },
      "execution_count": 18,
      "outputs": [
        {
          "output_type": "stream",
          "name": "stdout",
          "text": [
            "uint8\n"
          ]
        }
      ]
    },
    {
      "cell_type": "code",
      "source": [
        "x_train = x_train.astype('float32')\n",
        "x_valid = x_valid.astype('float32')\n",
        "x_test = x_test.astype('float32')"
      ],
      "metadata": {
        "id": "KRayPqHPaWbn"
      },
      "execution_count": 19,
      "outputs": []
    },
    {
      "cell_type": "code",
      "source": [
        "# after\n",
        "print(x_train.dtype)"
      ],
      "metadata": {
        "colab": {
          "base_uri": "https://localhost:8080/"
        },
        "id": "dekwGBo9aaOa",
        "outputId": "05894409-2b8c-4e12-eb9c-15ba08fffdba"
      },
      "execution_count": 20,
      "outputs": [
        {
          "output_type": "stream",
          "name": "stdout",
          "text": [
            "float32\n"
          ]
        }
      ]
    },
    {
      "cell_type": "markdown",
      "source": [
        "Piksel degerleri normalizasyonu"
      ],
      "metadata": {
        "id": "4L5E5jJXacsz"
      }
    },
    {
      "cell_type": "code",
      "source": [
        "x_train[0]"
      ],
      "metadata": {
        "colab": {
          "base_uri": "https://localhost:8080/"
        },
        "id": "11wfN2A7afkG",
        "outputId": "279d0f51-b6cd-4c8d-807e-fa2a6a8488a7"
      },
      "execution_count": 21,
      "outputs": [
        {
          "output_type": "execute_result",
          "data": {
            "text/plain": [
              "array([[[  0.],\n",
              "        [  0.],\n",
              "        [  0.],\n",
              "        [  0.],\n",
              "        [  0.],\n",
              "        [  0.],\n",
              "        [  0.],\n",
              "        [  0.],\n",
              "        [  0.],\n",
              "        [  0.],\n",
              "        [  0.],\n",
              "        [  0.],\n",
              "        [  0.],\n",
              "        [  0.],\n",
              "        [  0.],\n",
              "        [  0.],\n",
              "        [  0.],\n",
              "        [  0.],\n",
              "        [  0.],\n",
              "        [  0.],\n",
              "        [  0.],\n",
              "        [  0.],\n",
              "        [  0.],\n",
              "        [  0.],\n",
              "        [  0.],\n",
              "        [  0.],\n",
              "        [  0.],\n",
              "        [  0.]],\n",
              "\n",
              "       [[  0.],\n",
              "        [  0.],\n",
              "        [  0.],\n",
              "        [  0.],\n",
              "        [  0.],\n",
              "        [  0.],\n",
              "        [  0.],\n",
              "        [  0.],\n",
              "        [  0.],\n",
              "        [  0.],\n",
              "        [  0.],\n",
              "        [  0.],\n",
              "        [  0.],\n",
              "        [  0.],\n",
              "        [  0.],\n",
              "        [  0.],\n",
              "        [  0.],\n",
              "        [  0.],\n",
              "        [  0.],\n",
              "        [  0.],\n",
              "        [  0.],\n",
              "        [  0.],\n",
              "        [  0.],\n",
              "        [  0.],\n",
              "        [  0.],\n",
              "        [  0.],\n",
              "        [  0.],\n",
              "        [  0.]],\n",
              "\n",
              "       [[  0.],\n",
              "        [  0.],\n",
              "        [  0.],\n",
              "        [  0.],\n",
              "        [  0.],\n",
              "        [  0.],\n",
              "        [  0.],\n",
              "        [  0.],\n",
              "        [  0.],\n",
              "        [  0.],\n",
              "        [  0.],\n",
              "        [  0.],\n",
              "        [  0.],\n",
              "        [  0.],\n",
              "        [  0.],\n",
              "        [  0.],\n",
              "        [  0.],\n",
              "        [  0.],\n",
              "        [  0.],\n",
              "        [  0.],\n",
              "        [  0.],\n",
              "        [  0.],\n",
              "        [  0.],\n",
              "        [  0.],\n",
              "        [  0.],\n",
              "        [  0.],\n",
              "        [  0.],\n",
              "        [  0.]],\n",
              "\n",
              "       [[  0.],\n",
              "        [  0.],\n",
              "        [  0.],\n",
              "        [  0.],\n",
              "        [  0.],\n",
              "        [  0.],\n",
              "        [  0.],\n",
              "        [  0.],\n",
              "        [  0.],\n",
              "        [  0.],\n",
              "        [  0.],\n",
              "        [  0.],\n",
              "        [  0.],\n",
              "        [  0.],\n",
              "        [  0.],\n",
              "        [  0.],\n",
              "        [  0.],\n",
              "        [  0.],\n",
              "        [  0.],\n",
              "        [  0.],\n",
              "        [  0.],\n",
              "        [  0.],\n",
              "        [  0.],\n",
              "        [  0.],\n",
              "        [  0.],\n",
              "        [  0.],\n",
              "        [  0.],\n",
              "        [  0.]],\n",
              "\n",
              "       [[  0.],\n",
              "        [  0.],\n",
              "        [  0.],\n",
              "        [  0.],\n",
              "        [  0.],\n",
              "        [  0.],\n",
              "        [  0.],\n",
              "        [  0.],\n",
              "        [  0.],\n",
              "        [  0.],\n",
              "        [  0.],\n",
              "        [  0.],\n",
              "        [  0.],\n",
              "        [  0.],\n",
              "        [  0.],\n",
              "        [  0.],\n",
              "        [  0.],\n",
              "        [  0.],\n",
              "        [  0.],\n",
              "        [  0.],\n",
              "        [  0.],\n",
              "        [  0.],\n",
              "        [  0.],\n",
              "        [  0.],\n",
              "        [  0.],\n",
              "        [  0.],\n",
              "        [  0.],\n",
              "        [  0.]],\n",
              "\n",
              "       [[  0.],\n",
              "        [  0.],\n",
              "        [  0.],\n",
              "        [  0.],\n",
              "        [  0.],\n",
              "        [  0.],\n",
              "        [  0.],\n",
              "        [  0.],\n",
              "        [  0.],\n",
              "        [  0.],\n",
              "        [  0.],\n",
              "        [  0.],\n",
              "        [  3.],\n",
              "        [ 18.],\n",
              "        [ 18.],\n",
              "        [ 18.],\n",
              "        [126.],\n",
              "        [136.],\n",
              "        [175.],\n",
              "        [ 26.],\n",
              "        [166.],\n",
              "        [255.],\n",
              "        [247.],\n",
              "        [127.],\n",
              "        [  0.],\n",
              "        [  0.],\n",
              "        [  0.],\n",
              "        [  0.]],\n",
              "\n",
              "       [[  0.],\n",
              "        [  0.],\n",
              "        [  0.],\n",
              "        [  0.],\n",
              "        [  0.],\n",
              "        [  0.],\n",
              "        [  0.],\n",
              "        [  0.],\n",
              "        [ 30.],\n",
              "        [ 36.],\n",
              "        [ 94.],\n",
              "        [154.],\n",
              "        [170.],\n",
              "        [253.],\n",
              "        [253.],\n",
              "        [253.],\n",
              "        [253.],\n",
              "        [253.],\n",
              "        [225.],\n",
              "        [172.],\n",
              "        [253.],\n",
              "        [242.],\n",
              "        [195.],\n",
              "        [ 64.],\n",
              "        [  0.],\n",
              "        [  0.],\n",
              "        [  0.],\n",
              "        [  0.]],\n",
              "\n",
              "       [[  0.],\n",
              "        [  0.],\n",
              "        [  0.],\n",
              "        [  0.],\n",
              "        [  0.],\n",
              "        [  0.],\n",
              "        [  0.],\n",
              "        [ 49.],\n",
              "        [238.],\n",
              "        [253.],\n",
              "        [253.],\n",
              "        [253.],\n",
              "        [253.],\n",
              "        [253.],\n",
              "        [253.],\n",
              "        [253.],\n",
              "        [253.],\n",
              "        [251.],\n",
              "        [ 93.],\n",
              "        [ 82.],\n",
              "        [ 82.],\n",
              "        [ 56.],\n",
              "        [ 39.],\n",
              "        [  0.],\n",
              "        [  0.],\n",
              "        [  0.],\n",
              "        [  0.],\n",
              "        [  0.]],\n",
              "\n",
              "       [[  0.],\n",
              "        [  0.],\n",
              "        [  0.],\n",
              "        [  0.],\n",
              "        [  0.],\n",
              "        [  0.],\n",
              "        [  0.],\n",
              "        [ 18.],\n",
              "        [219.],\n",
              "        [253.],\n",
              "        [253.],\n",
              "        [253.],\n",
              "        [253.],\n",
              "        [253.],\n",
              "        [198.],\n",
              "        [182.],\n",
              "        [247.],\n",
              "        [241.],\n",
              "        [  0.],\n",
              "        [  0.],\n",
              "        [  0.],\n",
              "        [  0.],\n",
              "        [  0.],\n",
              "        [  0.],\n",
              "        [  0.],\n",
              "        [  0.],\n",
              "        [  0.],\n",
              "        [  0.]],\n",
              "\n",
              "       [[  0.],\n",
              "        [  0.],\n",
              "        [  0.],\n",
              "        [  0.],\n",
              "        [  0.],\n",
              "        [  0.],\n",
              "        [  0.],\n",
              "        [  0.],\n",
              "        [ 80.],\n",
              "        [156.],\n",
              "        [107.],\n",
              "        [253.],\n",
              "        [253.],\n",
              "        [205.],\n",
              "        [ 11.],\n",
              "        [  0.],\n",
              "        [ 43.],\n",
              "        [154.],\n",
              "        [  0.],\n",
              "        [  0.],\n",
              "        [  0.],\n",
              "        [  0.],\n",
              "        [  0.],\n",
              "        [  0.],\n",
              "        [  0.],\n",
              "        [  0.],\n",
              "        [  0.],\n",
              "        [  0.]],\n",
              "\n",
              "       [[  0.],\n",
              "        [  0.],\n",
              "        [  0.],\n",
              "        [  0.],\n",
              "        [  0.],\n",
              "        [  0.],\n",
              "        [  0.],\n",
              "        [  0.],\n",
              "        [  0.],\n",
              "        [ 14.],\n",
              "        [  1.],\n",
              "        [154.],\n",
              "        [253.],\n",
              "        [ 90.],\n",
              "        [  0.],\n",
              "        [  0.],\n",
              "        [  0.],\n",
              "        [  0.],\n",
              "        [  0.],\n",
              "        [  0.],\n",
              "        [  0.],\n",
              "        [  0.],\n",
              "        [  0.],\n",
              "        [  0.],\n",
              "        [  0.],\n",
              "        [  0.],\n",
              "        [  0.],\n",
              "        [  0.]],\n",
              "\n",
              "       [[  0.],\n",
              "        [  0.],\n",
              "        [  0.],\n",
              "        [  0.],\n",
              "        [  0.],\n",
              "        [  0.],\n",
              "        [  0.],\n",
              "        [  0.],\n",
              "        [  0.],\n",
              "        [  0.],\n",
              "        [  0.],\n",
              "        [139.],\n",
              "        [253.],\n",
              "        [190.],\n",
              "        [  2.],\n",
              "        [  0.],\n",
              "        [  0.],\n",
              "        [  0.],\n",
              "        [  0.],\n",
              "        [  0.],\n",
              "        [  0.],\n",
              "        [  0.],\n",
              "        [  0.],\n",
              "        [  0.],\n",
              "        [  0.],\n",
              "        [  0.],\n",
              "        [  0.],\n",
              "        [  0.]],\n",
              "\n",
              "       [[  0.],\n",
              "        [  0.],\n",
              "        [  0.],\n",
              "        [  0.],\n",
              "        [  0.],\n",
              "        [  0.],\n",
              "        [  0.],\n",
              "        [  0.],\n",
              "        [  0.],\n",
              "        [  0.],\n",
              "        [  0.],\n",
              "        [ 11.],\n",
              "        [190.],\n",
              "        [253.],\n",
              "        [ 70.],\n",
              "        [  0.],\n",
              "        [  0.],\n",
              "        [  0.],\n",
              "        [  0.],\n",
              "        [  0.],\n",
              "        [  0.],\n",
              "        [  0.],\n",
              "        [  0.],\n",
              "        [  0.],\n",
              "        [  0.],\n",
              "        [  0.],\n",
              "        [  0.],\n",
              "        [  0.]],\n",
              "\n",
              "       [[  0.],\n",
              "        [  0.],\n",
              "        [  0.],\n",
              "        [  0.],\n",
              "        [  0.],\n",
              "        [  0.],\n",
              "        [  0.],\n",
              "        [  0.],\n",
              "        [  0.],\n",
              "        [  0.],\n",
              "        [  0.],\n",
              "        [  0.],\n",
              "        [ 35.],\n",
              "        [241.],\n",
              "        [225.],\n",
              "        [160.],\n",
              "        [108.],\n",
              "        [  1.],\n",
              "        [  0.],\n",
              "        [  0.],\n",
              "        [  0.],\n",
              "        [  0.],\n",
              "        [  0.],\n",
              "        [  0.],\n",
              "        [  0.],\n",
              "        [  0.],\n",
              "        [  0.],\n",
              "        [  0.]],\n",
              "\n",
              "       [[  0.],\n",
              "        [  0.],\n",
              "        [  0.],\n",
              "        [  0.],\n",
              "        [  0.],\n",
              "        [  0.],\n",
              "        [  0.],\n",
              "        [  0.],\n",
              "        [  0.],\n",
              "        [  0.],\n",
              "        [  0.],\n",
              "        [  0.],\n",
              "        [  0.],\n",
              "        [ 81.],\n",
              "        [240.],\n",
              "        [253.],\n",
              "        [253.],\n",
              "        [119.],\n",
              "        [ 25.],\n",
              "        [  0.],\n",
              "        [  0.],\n",
              "        [  0.],\n",
              "        [  0.],\n",
              "        [  0.],\n",
              "        [  0.],\n",
              "        [  0.],\n",
              "        [  0.],\n",
              "        [  0.]],\n",
              "\n",
              "       [[  0.],\n",
              "        [  0.],\n",
              "        [  0.],\n",
              "        [  0.],\n",
              "        [  0.],\n",
              "        [  0.],\n",
              "        [  0.],\n",
              "        [  0.],\n",
              "        [  0.],\n",
              "        [  0.],\n",
              "        [  0.],\n",
              "        [  0.],\n",
              "        [  0.],\n",
              "        [  0.],\n",
              "        [ 45.],\n",
              "        [186.],\n",
              "        [253.],\n",
              "        [253.],\n",
              "        [150.],\n",
              "        [ 27.],\n",
              "        [  0.],\n",
              "        [  0.],\n",
              "        [  0.],\n",
              "        [  0.],\n",
              "        [  0.],\n",
              "        [  0.],\n",
              "        [  0.],\n",
              "        [  0.]],\n",
              "\n",
              "       [[  0.],\n",
              "        [  0.],\n",
              "        [  0.],\n",
              "        [  0.],\n",
              "        [  0.],\n",
              "        [  0.],\n",
              "        [  0.],\n",
              "        [  0.],\n",
              "        [  0.],\n",
              "        [  0.],\n",
              "        [  0.],\n",
              "        [  0.],\n",
              "        [  0.],\n",
              "        [  0.],\n",
              "        [  0.],\n",
              "        [ 16.],\n",
              "        [ 93.],\n",
              "        [252.],\n",
              "        [253.],\n",
              "        [187.],\n",
              "        [  0.],\n",
              "        [  0.],\n",
              "        [  0.],\n",
              "        [  0.],\n",
              "        [  0.],\n",
              "        [  0.],\n",
              "        [  0.],\n",
              "        [  0.]],\n",
              "\n",
              "       [[  0.],\n",
              "        [  0.],\n",
              "        [  0.],\n",
              "        [  0.],\n",
              "        [  0.],\n",
              "        [  0.],\n",
              "        [  0.],\n",
              "        [  0.],\n",
              "        [  0.],\n",
              "        [  0.],\n",
              "        [  0.],\n",
              "        [  0.],\n",
              "        [  0.],\n",
              "        [  0.],\n",
              "        [  0.],\n",
              "        [  0.],\n",
              "        [  0.],\n",
              "        [249.],\n",
              "        [253.],\n",
              "        [249.],\n",
              "        [ 64.],\n",
              "        [  0.],\n",
              "        [  0.],\n",
              "        [  0.],\n",
              "        [  0.],\n",
              "        [  0.],\n",
              "        [  0.],\n",
              "        [  0.]],\n",
              "\n",
              "       [[  0.],\n",
              "        [  0.],\n",
              "        [  0.],\n",
              "        [  0.],\n",
              "        [  0.],\n",
              "        [  0.],\n",
              "        [  0.],\n",
              "        [  0.],\n",
              "        [  0.],\n",
              "        [  0.],\n",
              "        [  0.],\n",
              "        [  0.],\n",
              "        [  0.],\n",
              "        [  0.],\n",
              "        [ 46.],\n",
              "        [130.],\n",
              "        [183.],\n",
              "        [253.],\n",
              "        [253.],\n",
              "        [207.],\n",
              "        [  2.],\n",
              "        [  0.],\n",
              "        [  0.],\n",
              "        [  0.],\n",
              "        [  0.],\n",
              "        [  0.],\n",
              "        [  0.],\n",
              "        [  0.]],\n",
              "\n",
              "       [[  0.],\n",
              "        [  0.],\n",
              "        [  0.],\n",
              "        [  0.],\n",
              "        [  0.],\n",
              "        [  0.],\n",
              "        [  0.],\n",
              "        [  0.],\n",
              "        [  0.],\n",
              "        [  0.],\n",
              "        [  0.],\n",
              "        [  0.],\n",
              "        [ 39.],\n",
              "        [148.],\n",
              "        [229.],\n",
              "        [253.],\n",
              "        [253.],\n",
              "        [253.],\n",
              "        [250.],\n",
              "        [182.],\n",
              "        [  0.],\n",
              "        [  0.],\n",
              "        [  0.],\n",
              "        [  0.],\n",
              "        [  0.],\n",
              "        [  0.],\n",
              "        [  0.],\n",
              "        [  0.]],\n",
              "\n",
              "       [[  0.],\n",
              "        [  0.],\n",
              "        [  0.],\n",
              "        [  0.],\n",
              "        [  0.],\n",
              "        [  0.],\n",
              "        [  0.],\n",
              "        [  0.],\n",
              "        [  0.],\n",
              "        [  0.],\n",
              "        [ 24.],\n",
              "        [114.],\n",
              "        [221.],\n",
              "        [253.],\n",
              "        [253.],\n",
              "        [253.],\n",
              "        [253.],\n",
              "        [201.],\n",
              "        [ 78.],\n",
              "        [  0.],\n",
              "        [  0.],\n",
              "        [  0.],\n",
              "        [  0.],\n",
              "        [  0.],\n",
              "        [  0.],\n",
              "        [  0.],\n",
              "        [  0.],\n",
              "        [  0.]],\n",
              "\n",
              "       [[  0.],\n",
              "        [  0.],\n",
              "        [  0.],\n",
              "        [  0.],\n",
              "        [  0.],\n",
              "        [  0.],\n",
              "        [  0.],\n",
              "        [  0.],\n",
              "        [ 23.],\n",
              "        [ 66.],\n",
              "        [213.],\n",
              "        [253.],\n",
              "        [253.],\n",
              "        [253.],\n",
              "        [253.],\n",
              "        [198.],\n",
              "        [ 81.],\n",
              "        [  2.],\n",
              "        [  0.],\n",
              "        [  0.],\n",
              "        [  0.],\n",
              "        [  0.],\n",
              "        [  0.],\n",
              "        [  0.],\n",
              "        [  0.],\n",
              "        [  0.],\n",
              "        [  0.],\n",
              "        [  0.]],\n",
              "\n",
              "       [[  0.],\n",
              "        [  0.],\n",
              "        [  0.],\n",
              "        [  0.],\n",
              "        [  0.],\n",
              "        [  0.],\n",
              "        [ 18.],\n",
              "        [171.],\n",
              "        [219.],\n",
              "        [253.],\n",
              "        [253.],\n",
              "        [253.],\n",
              "        [253.],\n",
              "        [195.],\n",
              "        [ 80.],\n",
              "        [  9.],\n",
              "        [  0.],\n",
              "        [  0.],\n",
              "        [  0.],\n",
              "        [  0.],\n",
              "        [  0.],\n",
              "        [  0.],\n",
              "        [  0.],\n",
              "        [  0.],\n",
              "        [  0.],\n",
              "        [  0.],\n",
              "        [  0.],\n",
              "        [  0.]],\n",
              "\n",
              "       [[  0.],\n",
              "        [  0.],\n",
              "        [  0.],\n",
              "        [  0.],\n",
              "        [ 55.],\n",
              "        [172.],\n",
              "        [226.],\n",
              "        [253.],\n",
              "        [253.],\n",
              "        [253.],\n",
              "        [253.],\n",
              "        [244.],\n",
              "        [133.],\n",
              "        [ 11.],\n",
              "        [  0.],\n",
              "        [  0.],\n",
              "        [  0.],\n",
              "        [  0.],\n",
              "        [  0.],\n",
              "        [  0.],\n",
              "        [  0.],\n",
              "        [  0.],\n",
              "        [  0.],\n",
              "        [  0.],\n",
              "        [  0.],\n",
              "        [  0.],\n",
              "        [  0.],\n",
              "        [  0.]],\n",
              "\n",
              "       [[  0.],\n",
              "        [  0.],\n",
              "        [  0.],\n",
              "        [  0.],\n",
              "        [136.],\n",
              "        [253.],\n",
              "        [253.],\n",
              "        [253.],\n",
              "        [212.],\n",
              "        [135.],\n",
              "        [132.],\n",
              "        [ 16.],\n",
              "        [  0.],\n",
              "        [  0.],\n",
              "        [  0.],\n",
              "        [  0.],\n",
              "        [  0.],\n",
              "        [  0.],\n",
              "        [  0.],\n",
              "        [  0.],\n",
              "        [  0.],\n",
              "        [  0.],\n",
              "        [  0.],\n",
              "        [  0.],\n",
              "        [  0.],\n",
              "        [  0.],\n",
              "        [  0.],\n",
              "        [  0.]],\n",
              "\n",
              "       [[  0.],\n",
              "        [  0.],\n",
              "        [  0.],\n",
              "        [  0.],\n",
              "        [  0.],\n",
              "        [  0.],\n",
              "        [  0.],\n",
              "        [  0.],\n",
              "        [  0.],\n",
              "        [  0.],\n",
              "        [  0.],\n",
              "        [  0.],\n",
              "        [  0.],\n",
              "        [  0.],\n",
              "        [  0.],\n",
              "        [  0.],\n",
              "        [  0.],\n",
              "        [  0.],\n",
              "        [  0.],\n",
              "        [  0.],\n",
              "        [  0.],\n",
              "        [  0.],\n",
              "        [  0.],\n",
              "        [  0.],\n",
              "        [  0.],\n",
              "        [  0.],\n",
              "        [  0.],\n",
              "        [  0.]],\n",
              "\n",
              "       [[  0.],\n",
              "        [  0.],\n",
              "        [  0.],\n",
              "        [  0.],\n",
              "        [  0.],\n",
              "        [  0.],\n",
              "        [  0.],\n",
              "        [  0.],\n",
              "        [  0.],\n",
              "        [  0.],\n",
              "        [  0.],\n",
              "        [  0.],\n",
              "        [  0.],\n",
              "        [  0.],\n",
              "        [  0.],\n",
              "        [  0.],\n",
              "        [  0.],\n",
              "        [  0.],\n",
              "        [  0.],\n",
              "        [  0.],\n",
              "        [  0.],\n",
              "        [  0.],\n",
              "        [  0.],\n",
              "        [  0.],\n",
              "        [  0.],\n",
              "        [  0.],\n",
              "        [  0.],\n",
              "        [  0.]],\n",
              "\n",
              "       [[  0.],\n",
              "        [  0.],\n",
              "        [  0.],\n",
              "        [  0.],\n",
              "        [  0.],\n",
              "        [  0.],\n",
              "        [  0.],\n",
              "        [  0.],\n",
              "        [  0.],\n",
              "        [  0.],\n",
              "        [  0.],\n",
              "        [  0.],\n",
              "        [  0.],\n",
              "        [  0.],\n",
              "        [  0.],\n",
              "        [  0.],\n",
              "        [  0.],\n",
              "        [  0.],\n",
              "        [  0.],\n",
              "        [  0.],\n",
              "        [  0.],\n",
              "        [  0.],\n",
              "        [  0.],\n",
              "        [  0.],\n",
              "        [  0.],\n",
              "        [  0.],\n",
              "        [  0.],\n",
              "        [  0.]]], dtype=float32)"
            ]
          },
          "metadata": {},
          "execution_count": 21
        }
      ]
    },
    {
      "cell_type": "code",
      "source": [
        "#normalize pixel values (0-255) -> (0-1)\n",
        "x_train /= 255\n",
        "x_valid /= 255\n",
        "x_test /= 255"
      ],
      "metadata": {
        "id": "FlwWSBUhaled"
      },
      "execution_count": 22,
      "outputs": []
    },
    {
      "cell_type": "code",
      "source": [
        "x_train[0]"
      ],
      "metadata": {
        "colab": {
          "base_uri": "https://localhost:8080/"
        },
        "id": "Y1kZh2umaptW",
        "outputId": "fdce7d66-2ee2-460b-ba9d-641b4d39bd15"
      },
      "execution_count": 23,
      "outputs": [
        {
          "output_type": "execute_result",
          "data": {
            "text/plain": [
              "array([[[0.        ],\n",
              "        [0.        ],\n",
              "        [0.        ],\n",
              "        [0.        ],\n",
              "        [0.        ],\n",
              "        [0.        ],\n",
              "        [0.        ],\n",
              "        [0.        ],\n",
              "        [0.        ],\n",
              "        [0.        ],\n",
              "        [0.        ],\n",
              "        [0.        ],\n",
              "        [0.        ],\n",
              "        [0.        ],\n",
              "        [0.        ],\n",
              "        [0.        ],\n",
              "        [0.        ],\n",
              "        [0.        ],\n",
              "        [0.        ],\n",
              "        [0.        ],\n",
              "        [0.        ],\n",
              "        [0.        ],\n",
              "        [0.        ],\n",
              "        [0.        ],\n",
              "        [0.        ],\n",
              "        [0.        ],\n",
              "        [0.        ],\n",
              "        [0.        ]],\n",
              "\n",
              "       [[0.        ],\n",
              "        [0.        ],\n",
              "        [0.        ],\n",
              "        [0.        ],\n",
              "        [0.        ],\n",
              "        [0.        ],\n",
              "        [0.        ],\n",
              "        [0.        ],\n",
              "        [0.        ],\n",
              "        [0.        ],\n",
              "        [0.        ],\n",
              "        [0.        ],\n",
              "        [0.        ],\n",
              "        [0.        ],\n",
              "        [0.        ],\n",
              "        [0.        ],\n",
              "        [0.        ],\n",
              "        [0.        ],\n",
              "        [0.        ],\n",
              "        [0.        ],\n",
              "        [0.        ],\n",
              "        [0.        ],\n",
              "        [0.        ],\n",
              "        [0.        ],\n",
              "        [0.        ],\n",
              "        [0.        ],\n",
              "        [0.        ],\n",
              "        [0.        ]],\n",
              "\n",
              "       [[0.        ],\n",
              "        [0.        ],\n",
              "        [0.        ],\n",
              "        [0.        ],\n",
              "        [0.        ],\n",
              "        [0.        ],\n",
              "        [0.        ],\n",
              "        [0.        ],\n",
              "        [0.        ],\n",
              "        [0.        ],\n",
              "        [0.        ],\n",
              "        [0.        ],\n",
              "        [0.        ],\n",
              "        [0.        ],\n",
              "        [0.        ],\n",
              "        [0.        ],\n",
              "        [0.        ],\n",
              "        [0.        ],\n",
              "        [0.        ],\n",
              "        [0.        ],\n",
              "        [0.        ],\n",
              "        [0.        ],\n",
              "        [0.        ],\n",
              "        [0.        ],\n",
              "        [0.        ],\n",
              "        [0.        ],\n",
              "        [0.        ],\n",
              "        [0.        ]],\n",
              "\n",
              "       [[0.        ],\n",
              "        [0.        ],\n",
              "        [0.        ],\n",
              "        [0.        ],\n",
              "        [0.        ],\n",
              "        [0.        ],\n",
              "        [0.        ],\n",
              "        [0.        ],\n",
              "        [0.        ],\n",
              "        [0.        ],\n",
              "        [0.        ],\n",
              "        [0.        ],\n",
              "        [0.        ],\n",
              "        [0.        ],\n",
              "        [0.        ],\n",
              "        [0.        ],\n",
              "        [0.        ],\n",
              "        [0.        ],\n",
              "        [0.        ],\n",
              "        [0.        ],\n",
              "        [0.        ],\n",
              "        [0.        ],\n",
              "        [0.        ],\n",
              "        [0.        ],\n",
              "        [0.        ],\n",
              "        [0.        ],\n",
              "        [0.        ],\n",
              "        [0.        ]],\n",
              "\n",
              "       [[0.        ],\n",
              "        [0.        ],\n",
              "        [0.        ],\n",
              "        [0.        ],\n",
              "        [0.        ],\n",
              "        [0.        ],\n",
              "        [0.        ],\n",
              "        [0.        ],\n",
              "        [0.        ],\n",
              "        [0.        ],\n",
              "        [0.        ],\n",
              "        [0.        ],\n",
              "        [0.        ],\n",
              "        [0.        ],\n",
              "        [0.        ],\n",
              "        [0.        ],\n",
              "        [0.        ],\n",
              "        [0.        ],\n",
              "        [0.        ],\n",
              "        [0.        ],\n",
              "        [0.        ],\n",
              "        [0.        ],\n",
              "        [0.        ],\n",
              "        [0.        ],\n",
              "        [0.        ],\n",
              "        [0.        ],\n",
              "        [0.        ],\n",
              "        [0.        ]],\n",
              "\n",
              "       [[0.        ],\n",
              "        [0.        ],\n",
              "        [0.        ],\n",
              "        [0.        ],\n",
              "        [0.        ],\n",
              "        [0.        ],\n",
              "        [0.        ],\n",
              "        [0.        ],\n",
              "        [0.        ],\n",
              "        [0.        ],\n",
              "        [0.        ],\n",
              "        [0.        ],\n",
              "        [0.01176471],\n",
              "        [0.07058824],\n",
              "        [0.07058824],\n",
              "        [0.07058824],\n",
              "        [0.49411765],\n",
              "        [0.53333336],\n",
              "        [0.6862745 ],\n",
              "        [0.10196079],\n",
              "        [0.6509804 ],\n",
              "        [1.        ],\n",
              "        [0.96862745],\n",
              "        [0.49803922],\n",
              "        [0.        ],\n",
              "        [0.        ],\n",
              "        [0.        ],\n",
              "        [0.        ]],\n",
              "\n",
              "       [[0.        ],\n",
              "        [0.        ],\n",
              "        [0.        ],\n",
              "        [0.        ],\n",
              "        [0.        ],\n",
              "        [0.        ],\n",
              "        [0.        ],\n",
              "        [0.        ],\n",
              "        [0.11764706],\n",
              "        [0.14117648],\n",
              "        [0.36862746],\n",
              "        [0.6039216 ],\n",
              "        [0.6666667 ],\n",
              "        [0.99215686],\n",
              "        [0.99215686],\n",
              "        [0.99215686],\n",
              "        [0.99215686],\n",
              "        [0.99215686],\n",
              "        [0.88235295],\n",
              "        [0.6745098 ],\n",
              "        [0.99215686],\n",
              "        [0.9490196 ],\n",
              "        [0.7647059 ],\n",
              "        [0.2509804 ],\n",
              "        [0.        ],\n",
              "        [0.        ],\n",
              "        [0.        ],\n",
              "        [0.        ]],\n",
              "\n",
              "       [[0.        ],\n",
              "        [0.        ],\n",
              "        [0.        ],\n",
              "        [0.        ],\n",
              "        [0.        ],\n",
              "        [0.        ],\n",
              "        [0.        ],\n",
              "        [0.19215687],\n",
              "        [0.93333334],\n",
              "        [0.99215686],\n",
              "        [0.99215686],\n",
              "        [0.99215686],\n",
              "        [0.99215686],\n",
              "        [0.99215686],\n",
              "        [0.99215686],\n",
              "        [0.99215686],\n",
              "        [0.99215686],\n",
              "        [0.9843137 ],\n",
              "        [0.3647059 ],\n",
              "        [0.32156864],\n",
              "        [0.32156864],\n",
              "        [0.21960784],\n",
              "        [0.15294118],\n",
              "        [0.        ],\n",
              "        [0.        ],\n",
              "        [0.        ],\n",
              "        [0.        ],\n",
              "        [0.        ]],\n",
              "\n",
              "       [[0.        ],\n",
              "        [0.        ],\n",
              "        [0.        ],\n",
              "        [0.        ],\n",
              "        [0.        ],\n",
              "        [0.        ],\n",
              "        [0.        ],\n",
              "        [0.07058824],\n",
              "        [0.85882354],\n",
              "        [0.99215686],\n",
              "        [0.99215686],\n",
              "        [0.99215686],\n",
              "        [0.99215686],\n",
              "        [0.99215686],\n",
              "        [0.7764706 ],\n",
              "        [0.7137255 ],\n",
              "        [0.96862745],\n",
              "        [0.94509804],\n",
              "        [0.        ],\n",
              "        [0.        ],\n",
              "        [0.        ],\n",
              "        [0.        ],\n",
              "        [0.        ],\n",
              "        [0.        ],\n",
              "        [0.        ],\n",
              "        [0.        ],\n",
              "        [0.        ],\n",
              "        [0.        ]],\n",
              "\n",
              "       [[0.        ],\n",
              "        [0.        ],\n",
              "        [0.        ],\n",
              "        [0.        ],\n",
              "        [0.        ],\n",
              "        [0.        ],\n",
              "        [0.        ],\n",
              "        [0.        ],\n",
              "        [0.3137255 ],\n",
              "        [0.6117647 ],\n",
              "        [0.41960785],\n",
              "        [0.99215686],\n",
              "        [0.99215686],\n",
              "        [0.8039216 ],\n",
              "        [0.04313726],\n",
              "        [0.        ],\n",
              "        [0.16862746],\n",
              "        [0.6039216 ],\n",
              "        [0.        ],\n",
              "        [0.        ],\n",
              "        [0.        ],\n",
              "        [0.        ],\n",
              "        [0.        ],\n",
              "        [0.        ],\n",
              "        [0.        ],\n",
              "        [0.        ],\n",
              "        [0.        ],\n",
              "        [0.        ]],\n",
              "\n",
              "       [[0.        ],\n",
              "        [0.        ],\n",
              "        [0.        ],\n",
              "        [0.        ],\n",
              "        [0.        ],\n",
              "        [0.        ],\n",
              "        [0.        ],\n",
              "        [0.        ],\n",
              "        [0.        ],\n",
              "        [0.05490196],\n",
              "        [0.00392157],\n",
              "        [0.6039216 ],\n",
              "        [0.99215686],\n",
              "        [0.3529412 ],\n",
              "        [0.        ],\n",
              "        [0.        ],\n",
              "        [0.        ],\n",
              "        [0.        ],\n",
              "        [0.        ],\n",
              "        [0.        ],\n",
              "        [0.        ],\n",
              "        [0.        ],\n",
              "        [0.        ],\n",
              "        [0.        ],\n",
              "        [0.        ],\n",
              "        [0.        ],\n",
              "        [0.        ],\n",
              "        [0.        ]],\n",
              "\n",
              "       [[0.        ],\n",
              "        [0.        ],\n",
              "        [0.        ],\n",
              "        [0.        ],\n",
              "        [0.        ],\n",
              "        [0.        ],\n",
              "        [0.        ],\n",
              "        [0.        ],\n",
              "        [0.        ],\n",
              "        [0.        ],\n",
              "        [0.        ],\n",
              "        [0.54509807],\n",
              "        [0.99215686],\n",
              "        [0.74509805],\n",
              "        [0.00784314],\n",
              "        [0.        ],\n",
              "        [0.        ],\n",
              "        [0.        ],\n",
              "        [0.        ],\n",
              "        [0.        ],\n",
              "        [0.        ],\n",
              "        [0.        ],\n",
              "        [0.        ],\n",
              "        [0.        ],\n",
              "        [0.        ],\n",
              "        [0.        ],\n",
              "        [0.        ],\n",
              "        [0.        ]],\n",
              "\n",
              "       [[0.        ],\n",
              "        [0.        ],\n",
              "        [0.        ],\n",
              "        [0.        ],\n",
              "        [0.        ],\n",
              "        [0.        ],\n",
              "        [0.        ],\n",
              "        [0.        ],\n",
              "        [0.        ],\n",
              "        [0.        ],\n",
              "        [0.        ],\n",
              "        [0.04313726],\n",
              "        [0.74509805],\n",
              "        [0.99215686],\n",
              "        [0.27450982],\n",
              "        [0.        ],\n",
              "        [0.        ],\n",
              "        [0.        ],\n",
              "        [0.        ],\n",
              "        [0.        ],\n",
              "        [0.        ],\n",
              "        [0.        ],\n",
              "        [0.        ],\n",
              "        [0.        ],\n",
              "        [0.        ],\n",
              "        [0.        ],\n",
              "        [0.        ],\n",
              "        [0.        ]],\n",
              "\n",
              "       [[0.        ],\n",
              "        [0.        ],\n",
              "        [0.        ],\n",
              "        [0.        ],\n",
              "        [0.        ],\n",
              "        [0.        ],\n",
              "        [0.        ],\n",
              "        [0.        ],\n",
              "        [0.        ],\n",
              "        [0.        ],\n",
              "        [0.        ],\n",
              "        [0.        ],\n",
              "        [0.13725491],\n",
              "        [0.94509804],\n",
              "        [0.88235295],\n",
              "        [0.627451  ],\n",
              "        [0.42352942],\n",
              "        [0.00392157],\n",
              "        [0.        ],\n",
              "        [0.        ],\n",
              "        [0.        ],\n",
              "        [0.        ],\n",
              "        [0.        ],\n",
              "        [0.        ],\n",
              "        [0.        ],\n",
              "        [0.        ],\n",
              "        [0.        ],\n",
              "        [0.        ]],\n",
              "\n",
              "       [[0.        ],\n",
              "        [0.        ],\n",
              "        [0.        ],\n",
              "        [0.        ],\n",
              "        [0.        ],\n",
              "        [0.        ],\n",
              "        [0.        ],\n",
              "        [0.        ],\n",
              "        [0.        ],\n",
              "        [0.        ],\n",
              "        [0.        ],\n",
              "        [0.        ],\n",
              "        [0.        ],\n",
              "        [0.31764707],\n",
              "        [0.9411765 ],\n",
              "        [0.99215686],\n",
              "        [0.99215686],\n",
              "        [0.46666667],\n",
              "        [0.09803922],\n",
              "        [0.        ],\n",
              "        [0.        ],\n",
              "        [0.        ],\n",
              "        [0.        ],\n",
              "        [0.        ],\n",
              "        [0.        ],\n",
              "        [0.        ],\n",
              "        [0.        ],\n",
              "        [0.        ]],\n",
              "\n",
              "       [[0.        ],\n",
              "        [0.        ],\n",
              "        [0.        ],\n",
              "        [0.        ],\n",
              "        [0.        ],\n",
              "        [0.        ],\n",
              "        [0.        ],\n",
              "        [0.        ],\n",
              "        [0.        ],\n",
              "        [0.        ],\n",
              "        [0.        ],\n",
              "        [0.        ],\n",
              "        [0.        ],\n",
              "        [0.        ],\n",
              "        [0.1764706 ],\n",
              "        [0.7294118 ],\n",
              "        [0.99215686],\n",
              "        [0.99215686],\n",
              "        [0.5882353 ],\n",
              "        [0.10588235],\n",
              "        [0.        ],\n",
              "        [0.        ],\n",
              "        [0.        ],\n",
              "        [0.        ],\n",
              "        [0.        ],\n",
              "        [0.        ],\n",
              "        [0.        ],\n",
              "        [0.        ]],\n",
              "\n",
              "       [[0.        ],\n",
              "        [0.        ],\n",
              "        [0.        ],\n",
              "        [0.        ],\n",
              "        [0.        ],\n",
              "        [0.        ],\n",
              "        [0.        ],\n",
              "        [0.        ],\n",
              "        [0.        ],\n",
              "        [0.        ],\n",
              "        [0.        ],\n",
              "        [0.        ],\n",
              "        [0.        ],\n",
              "        [0.        ],\n",
              "        [0.        ],\n",
              "        [0.0627451 ],\n",
              "        [0.3647059 ],\n",
              "        [0.9882353 ],\n",
              "        [0.99215686],\n",
              "        [0.73333335],\n",
              "        [0.        ],\n",
              "        [0.        ],\n",
              "        [0.        ],\n",
              "        [0.        ],\n",
              "        [0.        ],\n",
              "        [0.        ],\n",
              "        [0.        ],\n",
              "        [0.        ]],\n",
              "\n",
              "       [[0.        ],\n",
              "        [0.        ],\n",
              "        [0.        ],\n",
              "        [0.        ],\n",
              "        [0.        ],\n",
              "        [0.        ],\n",
              "        [0.        ],\n",
              "        [0.        ],\n",
              "        [0.        ],\n",
              "        [0.        ],\n",
              "        [0.        ],\n",
              "        [0.        ],\n",
              "        [0.        ],\n",
              "        [0.        ],\n",
              "        [0.        ],\n",
              "        [0.        ],\n",
              "        [0.        ],\n",
              "        [0.9764706 ],\n",
              "        [0.99215686],\n",
              "        [0.9764706 ],\n",
              "        [0.2509804 ],\n",
              "        [0.        ],\n",
              "        [0.        ],\n",
              "        [0.        ],\n",
              "        [0.        ],\n",
              "        [0.        ],\n",
              "        [0.        ],\n",
              "        [0.        ]],\n",
              "\n",
              "       [[0.        ],\n",
              "        [0.        ],\n",
              "        [0.        ],\n",
              "        [0.        ],\n",
              "        [0.        ],\n",
              "        [0.        ],\n",
              "        [0.        ],\n",
              "        [0.        ],\n",
              "        [0.        ],\n",
              "        [0.        ],\n",
              "        [0.        ],\n",
              "        [0.        ],\n",
              "        [0.        ],\n",
              "        [0.        ],\n",
              "        [0.18039216],\n",
              "        [0.50980395],\n",
              "        [0.7176471 ],\n",
              "        [0.99215686],\n",
              "        [0.99215686],\n",
              "        [0.8117647 ],\n",
              "        [0.00784314],\n",
              "        [0.        ],\n",
              "        [0.        ],\n",
              "        [0.        ],\n",
              "        [0.        ],\n",
              "        [0.        ],\n",
              "        [0.        ],\n",
              "        [0.        ]],\n",
              "\n",
              "       [[0.        ],\n",
              "        [0.        ],\n",
              "        [0.        ],\n",
              "        [0.        ],\n",
              "        [0.        ],\n",
              "        [0.        ],\n",
              "        [0.        ],\n",
              "        [0.        ],\n",
              "        [0.        ],\n",
              "        [0.        ],\n",
              "        [0.        ],\n",
              "        [0.        ],\n",
              "        [0.15294118],\n",
              "        [0.5803922 ],\n",
              "        [0.8980392 ],\n",
              "        [0.99215686],\n",
              "        [0.99215686],\n",
              "        [0.99215686],\n",
              "        [0.98039216],\n",
              "        [0.7137255 ],\n",
              "        [0.        ],\n",
              "        [0.        ],\n",
              "        [0.        ],\n",
              "        [0.        ],\n",
              "        [0.        ],\n",
              "        [0.        ],\n",
              "        [0.        ],\n",
              "        [0.        ]],\n",
              "\n",
              "       [[0.        ],\n",
              "        [0.        ],\n",
              "        [0.        ],\n",
              "        [0.        ],\n",
              "        [0.        ],\n",
              "        [0.        ],\n",
              "        [0.        ],\n",
              "        [0.        ],\n",
              "        [0.        ],\n",
              "        [0.        ],\n",
              "        [0.09411765],\n",
              "        [0.44705883],\n",
              "        [0.8666667 ],\n",
              "        [0.99215686],\n",
              "        [0.99215686],\n",
              "        [0.99215686],\n",
              "        [0.99215686],\n",
              "        [0.7882353 ],\n",
              "        [0.30588236],\n",
              "        [0.        ],\n",
              "        [0.        ],\n",
              "        [0.        ],\n",
              "        [0.        ],\n",
              "        [0.        ],\n",
              "        [0.        ],\n",
              "        [0.        ],\n",
              "        [0.        ],\n",
              "        [0.        ]],\n",
              "\n",
              "       [[0.        ],\n",
              "        [0.        ],\n",
              "        [0.        ],\n",
              "        [0.        ],\n",
              "        [0.        ],\n",
              "        [0.        ],\n",
              "        [0.        ],\n",
              "        [0.        ],\n",
              "        [0.09019608],\n",
              "        [0.25882354],\n",
              "        [0.8352941 ],\n",
              "        [0.99215686],\n",
              "        [0.99215686],\n",
              "        [0.99215686],\n",
              "        [0.99215686],\n",
              "        [0.7764706 ],\n",
              "        [0.31764707],\n",
              "        [0.00784314],\n",
              "        [0.        ],\n",
              "        [0.        ],\n",
              "        [0.        ],\n",
              "        [0.        ],\n",
              "        [0.        ],\n",
              "        [0.        ],\n",
              "        [0.        ],\n",
              "        [0.        ],\n",
              "        [0.        ],\n",
              "        [0.        ]],\n",
              "\n",
              "       [[0.        ],\n",
              "        [0.        ],\n",
              "        [0.        ],\n",
              "        [0.        ],\n",
              "        [0.        ],\n",
              "        [0.        ],\n",
              "        [0.07058824],\n",
              "        [0.67058825],\n",
              "        [0.85882354],\n",
              "        [0.99215686],\n",
              "        [0.99215686],\n",
              "        [0.99215686],\n",
              "        [0.99215686],\n",
              "        [0.7647059 ],\n",
              "        [0.3137255 ],\n",
              "        [0.03529412],\n",
              "        [0.        ],\n",
              "        [0.        ],\n",
              "        [0.        ],\n",
              "        [0.        ],\n",
              "        [0.        ],\n",
              "        [0.        ],\n",
              "        [0.        ],\n",
              "        [0.        ],\n",
              "        [0.        ],\n",
              "        [0.        ],\n",
              "        [0.        ],\n",
              "        [0.        ]],\n",
              "\n",
              "       [[0.        ],\n",
              "        [0.        ],\n",
              "        [0.        ],\n",
              "        [0.        ],\n",
              "        [0.21568628],\n",
              "        [0.6745098 ],\n",
              "        [0.8862745 ],\n",
              "        [0.99215686],\n",
              "        [0.99215686],\n",
              "        [0.99215686],\n",
              "        [0.99215686],\n",
              "        [0.95686275],\n",
              "        [0.52156866],\n",
              "        [0.04313726],\n",
              "        [0.        ],\n",
              "        [0.        ],\n",
              "        [0.        ],\n",
              "        [0.        ],\n",
              "        [0.        ],\n",
              "        [0.        ],\n",
              "        [0.        ],\n",
              "        [0.        ],\n",
              "        [0.        ],\n",
              "        [0.        ],\n",
              "        [0.        ],\n",
              "        [0.        ],\n",
              "        [0.        ],\n",
              "        [0.        ]],\n",
              "\n",
              "       [[0.        ],\n",
              "        [0.        ],\n",
              "        [0.        ],\n",
              "        [0.        ],\n",
              "        [0.53333336],\n",
              "        [0.99215686],\n",
              "        [0.99215686],\n",
              "        [0.99215686],\n",
              "        [0.83137256],\n",
              "        [0.5294118 ],\n",
              "        [0.5176471 ],\n",
              "        [0.0627451 ],\n",
              "        [0.        ],\n",
              "        [0.        ],\n",
              "        [0.        ],\n",
              "        [0.        ],\n",
              "        [0.        ],\n",
              "        [0.        ],\n",
              "        [0.        ],\n",
              "        [0.        ],\n",
              "        [0.        ],\n",
              "        [0.        ],\n",
              "        [0.        ],\n",
              "        [0.        ],\n",
              "        [0.        ],\n",
              "        [0.        ],\n",
              "        [0.        ],\n",
              "        [0.        ]],\n",
              "\n",
              "       [[0.        ],\n",
              "        [0.        ],\n",
              "        [0.        ],\n",
              "        [0.        ],\n",
              "        [0.        ],\n",
              "        [0.        ],\n",
              "        [0.        ],\n",
              "        [0.        ],\n",
              "        [0.        ],\n",
              "        [0.        ],\n",
              "        [0.        ],\n",
              "        [0.        ],\n",
              "        [0.        ],\n",
              "        [0.        ],\n",
              "        [0.        ],\n",
              "        [0.        ],\n",
              "        [0.        ],\n",
              "        [0.        ],\n",
              "        [0.        ],\n",
              "        [0.        ],\n",
              "        [0.        ],\n",
              "        [0.        ],\n",
              "        [0.        ],\n",
              "        [0.        ],\n",
              "        [0.        ],\n",
              "        [0.        ],\n",
              "        [0.        ],\n",
              "        [0.        ]],\n",
              "\n",
              "       [[0.        ],\n",
              "        [0.        ],\n",
              "        [0.        ],\n",
              "        [0.        ],\n",
              "        [0.        ],\n",
              "        [0.        ],\n",
              "        [0.        ],\n",
              "        [0.        ],\n",
              "        [0.        ],\n",
              "        [0.        ],\n",
              "        [0.        ],\n",
              "        [0.        ],\n",
              "        [0.        ],\n",
              "        [0.        ],\n",
              "        [0.        ],\n",
              "        [0.        ],\n",
              "        [0.        ],\n",
              "        [0.        ],\n",
              "        [0.        ],\n",
              "        [0.        ],\n",
              "        [0.        ],\n",
              "        [0.        ],\n",
              "        [0.        ],\n",
              "        [0.        ],\n",
              "        [0.        ],\n",
              "        [0.        ],\n",
              "        [0.        ],\n",
              "        [0.        ]],\n",
              "\n",
              "       [[0.        ],\n",
              "        [0.        ],\n",
              "        [0.        ],\n",
              "        [0.        ],\n",
              "        [0.        ],\n",
              "        [0.        ],\n",
              "        [0.        ],\n",
              "        [0.        ],\n",
              "        [0.        ],\n",
              "        [0.        ],\n",
              "        [0.        ],\n",
              "        [0.        ],\n",
              "        [0.        ],\n",
              "        [0.        ],\n",
              "        [0.        ],\n",
              "        [0.        ],\n",
              "        [0.        ],\n",
              "        [0.        ],\n",
              "        [0.        ],\n",
              "        [0.        ],\n",
              "        [0.        ],\n",
              "        [0.        ],\n",
              "        [0.        ],\n",
              "        [0.        ],\n",
              "        [0.        ],\n",
              "        [0.        ],\n",
              "        [0.        ],\n",
              "        [0.        ]]], dtype=float32)"
            ]
          },
          "metadata": {},
          "execution_count": 23
        }
      ]
    },
    {
      "cell_type": "code",
      "source": [
        "y_train[0]"
      ],
      "metadata": {
        "colab": {
          "base_uri": "https://localhost:8080/"
        },
        "id": "StsRW2NhaxHf",
        "outputId": "5ea4b5b3-b1f7-45f9-e304-2c4c3959f01d"
      },
      "execution_count": 24,
      "outputs": [
        {
          "output_type": "execute_result",
          "data": {
            "text/plain": [
              "5"
            ]
          },
          "metadata": {},
          "execution_count": 24
        }
      ]
    },
    {
      "cell_type": "code",
      "source": [
        "# convert class vectors to binary class matrices\n",
        "y_train = to_categorical(y_train, 10)\n",
        "y_valid = to_categorical(y_valid, 10)\n",
        "y_test = to_categorical(y_test, 10)"
      ],
      "metadata": {
        "id": "FsZLKafHay-M"
      },
      "execution_count": 25,
      "outputs": []
    },
    {
      "cell_type": "code",
      "source": [
        "y_train[0]"
      ],
      "metadata": {
        "colab": {
          "base_uri": "https://localhost:8080/"
        },
        "id": "JMZ6-8yLa48t",
        "outputId": "6c808044-9ecc-40e8-d60e-9656b2affc75"
      },
      "execution_count": 26,
      "outputs": [
        {
          "output_type": "execute_result",
          "data": {
            "text/plain": [
              "array([0., 0., 0., 0., 0., 1., 0., 0., 0., 0.], dtype=float32)"
            ]
          },
          "metadata": {},
          "execution_count": 26
        }
      ]
    },
    {
      "cell_type": "markdown",
      "source": [
        "#Preparing the Model"
      ],
      "metadata": {
        "id": "G4eckTDIa81I"
      }
    },
    {
      "cell_type": "code",
      "source": [
        "first_model = Sequential()\n",
        "first_model.add(Conv2D(filters=32, kernel_size=(3,3), activation='relu', input_shape=(28, 28, 1)))\n",
        "first_model.add(MaxPooling2D(pool_size=(2, 2)))\n",
        "first_model.add(Conv2D(filters=64, kernel_size=(3,3), activation='relu'))\n",
        "first_model.add(MaxPooling2D(pool_size=(2, 2)))\n",
        "\n",
        "first_model.add(Flatten())\n",
        "first_model.add(Dense(32, activation='relu'))\n",
        "first_model.add(Dense(10, activation='softmax'))"
      ],
      "metadata": {
        "id": "ZksFIWBfbA40"
      },
      "execution_count": 27,
      "outputs": []
    },
    {
      "cell_type": "code",
      "source": [
        "first_model.summary()"
      ],
      "metadata": {
        "colab": {
          "base_uri": "https://localhost:8080/"
        },
        "id": "3i-OhXOFbG7s",
        "outputId": "f6b2ead0-3fdf-43d6-aded-9cde22eee6a3"
      },
      "execution_count": 28,
      "outputs": [
        {
          "output_type": "stream",
          "name": "stdout",
          "text": [
            "Model: \"sequential\"\n",
            "_________________________________________________________________\n",
            " Layer (type)                Output Shape              Param #   \n",
            "=================================================================\n",
            " conv2d (Conv2D)             (None, 26, 26, 32)        320       \n",
            "                                                                 \n",
            " max_pooling2d (MaxPooling2D  (None, 13, 13, 32)       0         \n",
            " )                                                               \n",
            "                                                                 \n",
            " conv2d_1 (Conv2D)           (None, 11, 11, 64)        18496     \n",
            "                                                                 \n",
            " max_pooling2d_1 (MaxPooling  (None, 5, 5, 64)         0         \n",
            " 2D)                                                             \n",
            "                                                                 \n",
            " flatten (Flatten)           (None, 1600)              0         \n",
            "                                                                 \n",
            " dense (Dense)               (None, 32)                51232     \n",
            "                                                                 \n",
            " dense_1 (Dense)             (None, 10)                330       \n",
            "                                                                 \n",
            "=================================================================\n",
            "Total params: 70,378\n",
            "Trainable params: 70,378\n",
            "Non-trainable params: 0\n",
            "_________________________________________________________________\n"
          ]
        }
      ]
    },
    {
      "cell_type": "code",
      "source": [
        "from keras.utils import plot_model\n",
        "plot_model(first_model)"
      ],
      "metadata": {
        "colab": {
          "base_uri": "https://localhost:8080/",
          "height": 758
        },
        "id": "cfOBupLobLaD",
        "outputId": "3033deaa-5bdf-4460-ebb9-1762ab0df52f"
      },
      "execution_count": 29,
      "outputs": [
        {
          "output_type": "execute_result",
          "data": {
            "image/png": "[encoded data removed]",
            "text/plain": [
              "<IPython.core.display.Image object>"
            ]
          },
          "metadata": {},
          "execution_count": 29
        }
      ]
    },
    {
      "cell_type": "code",
      "source": [
        "# compile model\n",
        "first_model.compile(loss='categorical_crossentropy',\n",
        "              optimizer=Adam(),\n",
        "              metrics=['accuracy'])"
      ],
      "metadata": {
        "id": "AZuiLBfSbR7B"
      },
      "execution_count": 30,
      "outputs": []
    },
    {
      "cell_type": "markdown",
      "source": [
        "#Training the Model"
      ],
      "metadata": {
        "id": "0teNW-ZRbWO1"
      }
    },
    {
      "cell_type": "code",
      "source": [
        "history = first_model.fit(x_train, y_train,\n",
        "          batch_size=128,\n",
        "          epochs=3,\n",
        "          verbose=1,\n",
        "          validation_data=(x_valid, y_valid))"
      ],
      "metadata": {
        "colab": {
          "base_uri": "https://localhost:8080/"
        },
        "id": "8fZGp5JqbaLa",
        "outputId": "47c41119-b2bf-46e1-853d-c756a47e3dfc"
      },
      "execution_count": 31,
      "outputs": [
        {
          "output_type": "stream",
          "name": "stdout",
          "text": [
            "Epoch 1/3\n",
            "375/375 [==============================] - 11s 6ms/step - loss: 0.3066 - accuracy: 0.9121 - val_loss: 0.1192 - val_accuracy: 0.9638\n",
            "Epoch 2/3\n",
            "375/375 [==============================] - 2s 5ms/step - loss: 0.0795 - accuracy: 0.9758 - val_loss: 0.0673 - val_accuracy: 0.9793\n",
            "Epoch 3/3\n",
            "375/375 [==============================] - 2s 7ms/step - loss: 0.0585 - accuracy: 0.9820 - val_loss: 0.0555 - val_accuracy: 0.9840\n"
          ]
        }
      ]
    },
    {
      "cell_type": "markdown",
      "source": [
        "# Evaluating the model"
      ],
      "metadata": {
        "id": "-6HuPMuvboKk"
      }
    },
    {
      "cell_type": "code",
      "source": [
        "score = first_model.evaluate(x_test, y_test, verbose=1)\n",
        "print('Test loss:', score[0])\n",
        "print('Test accuracy:', score[1])"
      ],
      "metadata": {
        "colab": {
          "base_uri": "https://localhost:8080/"
        },
        "id": "Ulg96BjGbnSc",
        "outputId": "119916c1-0218-4f3e-cc03-1f20cc446680"
      },
      "execution_count": 32,
      "outputs": [
        {
          "output_type": "stream",
          "name": "stdout",
          "text": [
            "313/313 [==============================] - 1s 3ms/step - loss: 0.0458 - accuracy: 0.9851\n",
            "Test loss: 0.045768190175294876\n",
            "Test accuracy: 0.9850999712944031\n"
          ]
        }
      ]
    },
    {
      "cell_type": "markdown",
      "source": [
        "# Saving the model"
      ],
      "metadata": {
        "id": "Qz7902tWbynZ"
      }
    },
    {
      "cell_type": "code",
      "source": [
        "first_model.save('my_first_mnist_model.h5')"
      ],
      "metadata": {
        "id": "vU6Zdz3jb3ZN"
      },
      "execution_count": 33,
      "outputs": []
    },
    {
      "cell_type": "markdown",
      "source": [
        "(Opsiyonel) Tek image ile modeli test etme"
      ],
      "metadata": {
        "id": "-oE4oAx8cG7j"
      }
    },
    {
      "cell_type": "code",
      "source": [
        "#download images\n",
        "!wget -O test_digit_7.png https://3qeqpr26caki16dnhd19sv6by6v-wpengine.netdna-ssl.com/wp-content/uploads/2019/02/sample_image.png\n",
        "!wget -O test_digit_0.png https://i.stack.imgur.com/FK0FB.png"
      ],
      "metadata": {
        "colab": {
          "base_uri": "https://localhost:8080/"
        },
        "id": "9nGS5CMXb_9g",
        "outputId": "b73da324-563f-46a3-810b-53395dfa7f7f"
      },
      "execution_count": 36,
      "outputs": [
        {
          "output_type": "stream",
          "name": "stdout",
          "text": [
            "--2022-12-10 14:29:45--  https://3qeqpr26caki16dnhd19sv6by6v-wpengine.netdna-ssl.com/wp-content/uploads/2019/02/sample_image.png\n",
            "Resolving 3qeqpr26caki16dnhd19sv6by6v-wpengine.netdna-ssl.com (3qeqpr26caki16dnhd19sv6by6v-wpengine.netdna-ssl.com)... failed: Name or service not known.\n",
            "wget: unable to resolve host address ‘3qeqpr26caki16dnhd19sv6by6v-wpengine.netdna-ssl.com’\n",
            "--2022-12-10 14:29:45--  https://i.stack.imgur.com/FK0FB.png\n",
            "Resolving i.stack.imgur.com (i.stack.imgur.com)... 146.75.92.193\n",
            "Connecting to i.stack.imgur.com (i.stack.imgur.com)|146.75.92.193|:443... connected.\n",
            "HTTP request sent, awaiting response... 200 OK\n",
            "Length: 4934 (4.8K) [image/png]\n",
            "Saving to: ‘test_digit_0.png’\n",
            "\n",
            "test_digit_0.png    100%[===================>]   4.82K  --.-KB/s    in 0s      \n",
            "\n",
            "2022-12-10 14:29:46 (56.7 MB/s) - ‘test_digit_0.png’ saved [4934/4934]\n",
            "\n"
          ]
        }
      ]
    },
    {
      "cell_type": "code",
      "source": [
        "plt.imshow(plt.imread(\"test_digit_0.png\"), cmap=plt.cm.binary)\n",
        "plt.show()"
      ],
      "metadata": {
        "colab": {
          "base_uri": "https://localhost:8080/",
          "height": 269
        },
        "id": "d53ryRsScNuF",
        "outputId": "a4c73f31-8d84-4926-a54b-96e9991ec739"
      },
      "execution_count": 38,
      "outputs": [
        {
          "output_type": "display_data",
          "data": {
            "text/plain": [
              "<Figure size 432x288 with 1 Axes>"
            ],
            "image/png": "[encoded data removed]"
          },
          "metadata": {
            "needs_background": "light"
          }
        }
      ]
    },
    {
      "cell_type": "markdown",
      "source": [
        "Kaydettiğimiz modeli tekrar kullanmak istediğimizde aşağıdaki işlemleri kullanırız."
      ],
      "metadata": {
        "id": "BQBTVoUWgF8G"
      }
    },
    {
      "cell_type": "code",
      "source": [
        "from tensorflow.keras.models import load_model\n",
        "from tensorflow.keras.preprocessing.image import load_img, img_to_array\n",
        "import numpy as np"
      ],
      "metadata": {
        "id": "HZDBhcYAgNXp"
      },
      "execution_count": 39,
      "outputs": []
    },
    {
      "cell_type": "code",
      "source": [
        "# load model from file\n",
        "first_model = load_model('my_first_mnist_model.h5')"
      ],
      "metadata": {
        "id": "VzWyu2Y7gQmJ"
      },
      "execution_count": 40,
      "outputs": []
    },
    {
      "cell_type": "code",
      "source": [
        "print(first_model.outputs)"
      ],
      "metadata": {
        "colab": {
          "base_uri": "https://localhost:8080/"
        },
        "id": "yIGAEDRCgTdE",
        "outputId": "14d68fbc-4c59-4c86-d555-e8403e399751"
      },
      "execution_count": 41,
      "outputs": [
        {
          "output_type": "stream",
          "name": "stdout",
          "text": [
            "[<KerasTensor: shape=(None, 10) dtype=float32 (created by layer 'dense_1')>]\n"
          ]
        }
      ]
    },
    {
      "cell_type": "code",
      "source": [
        "# load image from file\n",
        "image = load_img(\"test_digit_0.png\", target_size=(28, 28), color_mode=\"grayscale\")\n",
        "image = img_to_array(image) / 255 # 0-255 -> 0-1\n",
        "image = np.expand_dims(image, axis=0)\n",
        "print('shape:', image.shape)"
      ],
      "metadata": {
        "colab": {
          "base_uri": "https://localhost:8080/"
        },
        "id": "mun3lS5CgXZ4",
        "outputId": "125996ec-9200-453f-9250-069befda8e2a"
      },
      "execution_count": 43,
      "outputs": [
        {
          "output_type": "stream",
          "name": "stdout",
          "text": [
            "shape: (1, 28, 28, 1)\n"
          ]
        }
      ]
    },
    {
      "cell_type": "code",
      "source": [
        "preds = first_model.predict(image)"
      ],
      "metadata": {
        "colab": {
          "base_uri": "https://localhost:8080/"
        },
        "id": "qUZ0OdncgeUa",
        "outputId": "f1e9c5ab-7a95-4932-cd4f-1c5b4f359c11"
      },
      "execution_count": 44,
      "outputs": [
        {
          "output_type": "stream",
          "name": "stdout",
          "text": [
            "1/1 [==============================] - 0s 112ms/step\n"
          ]
        }
      ]
    },
    {
      "cell_type": "code",
      "source": [
        "preds"
      ],
      "metadata": {
        "colab": {
          "base_uri": "https://localhost:8080/"
        },
        "id": "EJVQjrXJghUY",
        "outputId": "98cda8d5-5a23-48fc-82f9-06dc71ccc729"
      },
      "execution_count": 45,
      "outputs": [
        {
          "output_type": "execute_result",
          "data": {
            "text/plain": [
              "array([[5.1143382e-02, 5.5454735e-04, 7.2891274e-03, 2.3743261e-03,\n",
              "        1.1394188e-04, 8.8233981e-05, 9.3135864e-02, 1.0902203e-05,\n",
              "        8.4452486e-01, 7.6478982e-04]], dtype=float32)"
            ]
          },
          "metadata": {},
          "execution_count": 45
        }
      ]
    },
    {
      "cell_type": "code",
      "source": [
        "preds.argmax()"
      ],
      "metadata": {
        "colab": {
          "base_uri": "https://localhost:8080/"
        },
        "id": "xaCKQH6VgqWC",
        "outputId": "16a57b01-20d3-4660-d4e4-8edf24741cc4"
      },
      "execution_count": 46,
      "outputs": [
        {
          "output_type": "execute_result",
          "data": {
            "text/plain": [
              "8"
            ]
          },
          "metadata": {},
          "execution_count": 46
        }
      ]
    },
    {
      "cell_type": "markdown",
      "source": [
        "(Opsiyonel) Model Training History"
      ],
      "metadata": {
        "id": "YkJrYskugyTH"
      }
    },
    {
      "cell_type": "code",
      "source": [
        "# list all data in history\n",
        "print(history.history.keys())\n",
        "\n",
        "# summarize history for accuracy\n",
        "plt.plot(history.history['accuracy'])\n",
        "plt.plot(history.history['val_accuracy'])\n",
        "plt.title('model accuracy')\n",
        "plt.ylabel('accuracy')\n",
        "plt.xlabel('epoch')\n",
        "plt.legend(['train', 'test'], loc='upper left')\n",
        "plt.show()\n",
        "\n",
        "# summarize history for loss\n",
        "plt.plot(history.history['loss'])\n",
        "plt.plot(history.history['val_loss'])\n",
        "plt.title('model loss')\n",
        "plt.ylabel('loss')\n",
        "plt.xlabel('epoch')\n",
        "plt.legend(['train', 'validation'], loc='upper left')\n",
        "plt.show()"
      ],
      "metadata": {
        "colab": {
          "base_uri": "https://localhost:8080/",
          "height": 590
        },
        "id": "ZpqT7MoFgp11",
        "outputId": "d32dc326-3b3b-4412-994c-0687aea799d5"
      },
      "execution_count": 48,
      "outputs": [
        {
          "output_type": "stream",
          "name": "stdout",
          "text": [
            "dict_keys(['loss', 'accuracy', 'val_loss', 'val_accuracy'])\n"
          ]
        },
        {
          "output_type": "display_data",
          "data": {
            "text/plain": [
              "<Figure size 432x288 with 1 Axes>"
            ],
            "image/png": "[encoded data removed]"
          },
          "metadata": {
            "needs_background": "light"
          }
        },
        {
          "output_type": "display_data",
          "data": {
            "text/plain": [
              "<Figure size 432x288 with 1 Axes>"
            ],
            "image/png": "[encoded data removed]"
          },
          "metadata": {
            "needs_background": "light"
          }
        }
      ]
    }
  ]
}